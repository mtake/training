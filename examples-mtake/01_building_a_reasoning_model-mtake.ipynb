{
 "cells": [
  {
   "cell_type": "markdown",
   "metadata": {},
   "source": [
    "Below is an example recipe for training a model with reasoning traces, to become a \"thinking model\". In this example, we utilize Microsoft's `Phi-4-mini-instruct` and NVIDIA's Nemotron Post-Training Dataset for reasoning/non-reasoning traces."
   ]
  },
  {
   "cell_type": "markdown",
   "metadata": {},
   "source": [
    "# SFT: Warm Start for Reasoning\n",
    "\n",
    "The first step in this process is to introduce Phi-4-mini-instruct to the structure and style of thought, in multiple contexts. We also want to keep the Nemotron method of reasoning-toggle-via-system-prompt, so we need the model to see examples of reasoning and non-reasoning responses, with detailed thinking on and detailed thinking off as corresponding system prompts.\n"
   ]
  },
  {
   "cell_type": "markdown",
   "metadata": {},
   "source": [
    "## Environment Variables"
   ]
  },
  {
   "cell_type": "code",
   "execution_count": null,
   "metadata": {},
   "outputs": [],
   "source": [
    "import os\n",
    "\n",
    "os.environ['PYTORCH_CUDA_ALLOC_CONF'] = \"expandable_segments:True\"\n",
    "os.environ['TOKENIZERS_PARALLELISM'] = \"false\""
   ]
  },
  {
   "cell_type": "markdown",
   "metadata": {},
   "source": [
    "## Constants"
   ]
  },
  {
   "cell_type": "code",
   "execution_count": null,
   "metadata": {},
   "outputs": [],
   "source": [
    "data_name = \"nemotron\"\n",
    "# data_name = \"generic_data_teigaku-genzei\"\n",
    "\n",
    "generic_data_path = f\"{data_name}.jsonl\""
   ]
  },
  {
   "cell_type": "markdown",
   "metadata": {},
   "source": [
    "## Data Preparation"
   ]
  },
  {
   "cell_type": "code",
   "execution_count": null,
   "metadata": {},
   "outputs": [],
   "source": [
    "prep_data_num_proc = 8"
   ]
  },
  {
   "cell_type": "code",
   "execution_count": null,
   "metadata": {},
   "outputs": [],
   "source": [
    "force_prep_data = False\n",
    "\n",
    "prep_data = not os.path.isfile(generic_data_path) or force_prep_data"
   ]
  },
  {
   "cell_type": "markdown",
   "metadata": {},
   "source": [
    "To accomplish this, we use the open source Nemotron Post-Training Dataset, but it cannot be used as-is. The dataset is specific to Llama, and includes 15 million samples (most of which were unused in Nemotron training), so we will convert and filter the dataset to a more digestible messages-format set of samples, usable by any model. We start by loading the dataset via Huggingface Datasets:"
   ]
  },
  {
   "cell_type": "code",
   "execution_count": null,
   "metadata": {},
   "outputs": [],
   "source": [
    "if prep_data:\n",
    "    from datasets import load_dataset, concatenate_datasets\n",
    "\n",
    "    print(\"Start loading dataset\", flush=True)\n",
    "\n",
    "    # dataset = load_dataset(\"nvidia/Llama-Nemotron-Post-Training-Dataset-v1\")  # This redirects to \"nvidia/Llama-Nemotron-Post-Training-Dataset\" and the version is v1.1\n",
    "    dataset = load_dataset(\"nvidia/Llama-Nemotron-Post-Training-Dataset\", revision=\"ed905e6239c9d191e4c965a403dde07a5383b5eb\")  # This is v1\n",
    "\n",
    "    print(\"Finished loading dataset\", flush=True)"
   ]
  },
  {
   "cell_type": "markdown",
   "metadata": {},
   "source": [
    "We then take each category in the SFT data subset, and generalize the samples used in Nemotron training:"
   ]
  },
  {
   "cell_type": "code",
   "execution_count": null,
   "metadata": {},
   "outputs": [],
   "source": [
    "def generalize_sample(sample):\n",
    "    user = sample[\"input\"].split(\"user<|end_header_id|>\\n\\n\")[1].split(\"<|eot_id|>\")[0]\n",
    "    assistant = sample[\"output\"].replace(\"<|eot_id|>\", '')\n",
    "    message_list = [\n",
    "        {\"role\": \"system\", \"content\": f\"detailed thinking {sample['reasoning']}\"},\n",
    "        {\"role\": \"user\", \"content\": user},\n",
    "        {\"role\": \"assistant\", \"content\": assistant},\n",
    "    ]\n",
    "    return {\"messages\": message_list}\n",
    "\n",
    "generic_samples_datasets = []\n",
    "if prep_data:\n",
    "    for split in dataset.keys():\n",
    "        print(f\"Processing {split} samples\", flush=True)\n",
    "        new_split = dataset[split].filter(lambda sample: sample[\"used_in_training\"] == 'yes', num_proc=prep_data_num_proc)\n",
    "        print(f\"Adding {len(new_split)} samples\", flush=True)\n",
    "        new_samples = new_split.map(generalize_sample, remove_columns=list(new_split[0].keys()), num_proc=prep_data_num_proc)\n",
    "        generic_samples_datasets.append(new_samples)\n",
    "        print(\"Samples added\\n\", flush=True)"
   ]
  },
  {
   "cell_type": "markdown",
   "metadata": {},
   "source": [
    "Once we’ve got all of our reduced, generalized samples, we can re-combine them into a single dataset and save as a jsonl:"
   ]
  },
  {
   "cell_type": "code",
   "execution_count": null,
   "metadata": {},
   "outputs": [],
   "source": [
    "if prep_data:\n",
    "    print(\"Writing generic messages-format data\", flush=True)\n",
    "    generic_samples = concatenate_datasets(generic_samples_datasets)\n",
    "    print(generic_samples, flush=True)\n",
    "    generic_samples.to_json(generic_data_path, lines=True, orient=\"records\", num_proc=prep_data_num_proc)\n",
    "    print(\"Write complete!\", flush=True)"
   ]
  },
  {
   "cell_type": "markdown",
   "metadata": {},
   "source": [
    "This leaves us with 1.7 million samples of math, science, code, chat, and safety. This includes examples with and without detailed reasoning. With this file, we are ready to start SFT."
   ]
  },
  {
   "cell_type": "markdown",
   "metadata": {},
   "source": [
    "## Fine-Tuning"
   ]
  },
  {
   "cell_type": "code",
   "execution_count": null,
   "metadata": {},
   "outputs": [],
   "source": [
    "import torch\n",
    "\n",
    "assert torch.cuda.is_available()\n",
    "# fine_tune_nproc_per_node = 8  # original\n",
    "fine_tune_nproc_per_node = torch.cuda.device_count()  # NOTE adjust to the available # of gpus\n",
    "print(f\"fine_tune_nproc_per_node: {fine_tune_nproc_per_node}\", flush=True)\n",
    "\n",
    "fine_tune_nnodes = 1\n",
    "print(f\"fine_tune_nnodes: {fine_tune_nnodes}\", flush=True)"
   ]
  },
  {
   "cell_type": "code",
   "execution_count": null,
   "metadata": {},
   "outputs": [],
   "source": [
    "model_path = \"microsoft/Phi-4-mini-instruct\"\n",
    "ckpt_output_dir = f\"experiments/training_output-{data_name}\"\n",
    "processed_data_dir = f\"data/processed-data-{data_name}\"\n",
    "\n",
    "# num_epochs = 3  # original\n",
    "num_epochs = 1  # NOTE time saver"
   ]
  },
  {
   "cell_type": "code",
   "execution_count": null,
   "metadata": {},
   "outputs": [],
   "source": [
    "force_process_data = False\n",
    "\n",
    "process_data = not os.path.isfile(f\"{processed_data_dir}/data.jsonl\") or force_process_data"
   ]
  },
  {
   "cell_type": "markdown",
   "metadata": {},
   "source": [
    "For fine-tuning, we use the Instructlab Training library, built for optimal and efficient fine-tuning on any messages-format data. Using the python interface, we are able to launch the model training.\n",
    "\n",
    "In this case, we ensure that we install off of main, to get the latest generic Causal LM support:"
   ]
  },
  {
   "cell_type": "code",
   "execution_count": null,
   "metadata": {},
   "outputs": [],
   "source": [
    "#! pip install git+https://github.com/instructlab/training.git@main"
   ]
  },
  {
   "cell_type": "markdown",
   "metadata": {},
   "source": [
    "We start by importing the necessary pieces from the library:"
   ]
  },
  {
   "cell_type": "code",
   "execution_count": null,
   "metadata": {},
   "outputs": [],
   "source": [
    "from instructlab.training.config import TorchrunArgs, TrainingArgs, DistributedBackend, FSDPOptions\n",
    "from instructlab.training.main_ds import run_training"
   ]
  },
  {
   "cell_type": "markdown",
   "metadata": {},
   "source": [
    "We then define our distributed settings via TorchrunArgs. In our case, we trained on a single node with 8 H100 GPUs:"
   ]
  },
  {
   "cell_type": "code",
   "execution_count": null,
   "metadata": {},
   "outputs": [],
   "source": [
    "torch_args = TorchrunArgs(\n",
    "\tnproc_per_node=fine_tune_nproc_per_node,\n",
    "\tnnodes=fine_tune_nnodes,\n",
    "\tnode_rank=0,\n",
    "\trdzv_id=123,\n",
    "\trdzv_endpoint=\"0.0.0.0:8888\",\n",
    ")"
   ]
  },
  {
   "cell_type": "markdown",
   "metadata": {},
   "source": [
    "We then set our model and data paths, checkpoint output path, and hyperparameters via the TrainingArgs object:"
   ]
  },
  {
   "cell_type": "code",
   "execution_count": null,
   "metadata": {},
   "outputs": [],
   "source": [
    "train_args = TrainingArgs(\n",
    "\tmodel_path=model_path,\n",
    "\tdata_path=generic_data_path,\n",
    "\tckpt_output_dir=ckpt_output_dir,\n",
    "\tdata_output_dir=processed_data_dir,                       # processed data ids/labels/masks\n",
    "\tmax_seq_len=20000,\n",
    "\tmax_batch_len=30000,                                      # max tokens per gpu\n",
    "\tnum_epochs=num_epochs,\n",
    "\teffective_batch_size=256,                                 # target batch size per model update\n",
    "\tsave_samples=0,                                           # save ckpt after num of samples seen (0=off)\n",
    "\tlearning_rate=2e-5,\n",
    "\twarmup_steps=25,\n",
    "\tcheckpoint_at_epoch=True,                                 # save ckpt after every epoch\n",
    "\taccelerate_full_state_at_epoch=False,                     # save full-state for resuming\n",
    "\tfsdp_options=FSDPOptions(cpu_offload_params=False),\n",
    "\tdistributed_backend=DistributedBackend.FSDP,\n",
    "\tprocess_data=process_data,                                # can set to false if data processed before\n",
    ")"
   ]
  },
  {
   "cell_type": "markdown",
   "metadata": {},
   "source": [
    "Finally, we kick off SFT via the run_training function:"
   ]
  },
  {
   "cell_type": "code",
   "execution_count": null,
   "metadata": {},
   "outputs": [],
   "source": [
    "print(\"Start training\", flush=True)\n",
    "\n",
    "run_training(torch_args=torch_args,train_args=train_args)\n",
    "\n",
    "print(\"Finished training\", flush=True)"
   ]
  },
  {
   "cell_type": "markdown",
   "metadata": {},
   "source": [
    "Upon completion, we have n (n=num_epochs) Huggingface-Format checkpoints in `experiments/training_output/hf_format`. The full run logs and metrics will also be recorded in `experiments/training_output`. Running the final training as a python script rather than in a notebook may help with progress bar writing to stdout."
   ]
  }
 ],
 "metadata": {
  "kernelspec": {
   "display_name": "training-py311",
   "language": "python",
   "name": "python3"
  },
  "language_info": {
   "name": "python",
   "version": "3.11.11"
  }
 },
 "nbformat": 4,
 "nbformat_minor": 2
}
